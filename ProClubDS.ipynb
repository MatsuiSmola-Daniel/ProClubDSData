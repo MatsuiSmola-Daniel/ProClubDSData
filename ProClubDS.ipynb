{
  "nbformat": 4,
  "nbformat_minor": 0,
  "metadata": {
    "colab": {
      "provenance": []
    },
    "kernelspec": {
      "name": "python3",
      "display_name": "Python 3"
    },
    "language_info": {
      "name": "python"
    }
  },
  "cells": [
    {
      "cell_type": "markdown",
      "source": [
        "<a id='top'></a>\n",
        "# HHS Pro Club: Data Science 1 (Beginner friendly)\n",
        "## Contents\n",
        "* [Python recap](#python)\n",
        "* [Pandas](#pandas)\n",
        "* [Matplotlib](#matplotlib)\n",
        "* [Linear Regression (sklearn)](#reg)"
      ],
      "metadata": {
        "id": "5OIC6t596CP3"
      }
    },
    {
      "cell_type": "markdown",
      "source": [
        "<a id='python'></a>\n",
        "## Python\n",
        "Any line with `#` is a comment\n",
        "### Basic arithmetic"
      ],
      "metadata": {
        "id": "5yhKBoLx6H5E"
      }
    },
    {
      "cell_type": "code",
      "execution_count": 1,
      "metadata": {
        "colab": {
          "base_uri": "https://localhost:8080/"
        },
        "id": "RksWAZer59hh",
        "outputId": "a34348d3-d623-4f2a-a80b-51614fa38dec"
      },
      "outputs": [
        {
          "output_type": "stream",
          "name": "stdout",
          "text": [
            "hello world\n",
            "howdy mate\n",
            "howdy hey howdy hey \n"
          ]
        }
      ],
      "source": [
        "# Some data types\n",
        "# integer\n",
        "x = 7\n",
        "# float (decimals. kinda like doubles in Java)\n",
        "y = 9.8\n",
        "# string (single quotes work too)\n",
        "z = \"howdy hey\"\n",
        "a = 'howdy hey'\n",
        "b = \"\"\"howdy\n",
        "hey\"\"\"\n",
        "\n",
        "# add\n",
        "x + y\n",
        "# subtract\n",
        "x - y\n",
        "# multiply\n",
        "x * y\n",
        "# division (returns 3.5)\n",
        "x / 2\n",
        "# floor division (returns 3)\n",
        "x // 2\n",
        "# mod (returns ~1.8)\n",
        "y % 2\n",
        "# exponent (returns 49)\n",
        "x ** 2\n",
        "\n",
        "# print (yes you can add and multiply strings)\n",
        "print(\"hello world\")\n",
        "print(\"howdy\", \"mate\")\n",
        "print((z + \" \") * 2)"
      ]
    },
    {
      "cell_type": "markdown",
      "source": [
        "### Lists (kinda like ArrayLists in Java)\n",
        "Holds multiple elements => used to store multiple variables under single variable\n",
        "* Ordered (order of elements matter)\n",
        "* Lists are mutable (can change)\n",
        "* Heterogenous (can contain data of different types, even functions (kinda like methods))\n",
        "* Could contain duplicate data"
      ],
      "metadata": {
        "id": "-XsXFuRw62mH"
      }
    },
    {
      "cell_type": "code",
      "source": [
        "# list\n",
        "x = 7\n",
        "lst = [1, 3, \"troll\", -4.5, x, 7, 8, 9, 0, 1, 3, 34]\n",
        "\n",
        "# list[index]\n",
        "print(\"index 2 is:\", lst[2])\n",
        "lst[2] = \"babushka\"\n",
        "print(\"index 2 is now:\", lst[2])\n",
        "\n",
        "# length of list\n",
        "print(\"\\nlength of lst is:\", len(lst))\n",
        "\n",
        "# slice list[start : end(not inclusive) : step]\n",
        "print(\"\\nindex 7 and beyond\", lst[7:])\n",
        "print(\"index 2 to 5\", lst[2:6])\n",
        "print(\"every 3 elements\", lst[::3])\n",
        "print()\n",
        "\n",
        "# to add value to end\n",
        "lst.append(\"bob\")\n",
        "print(lst)\n",
        "\n",
        "# to remove value at index\n",
        "lst.pop(-4)\n",
        "print(lst)\n",
        "\n",
        "# to insert value\n",
        "lst.insert(2, \"hi\")\n",
        "print(lst)\n",
        "\n",
        "# to remove first occurance of element\n",
        "lst.remove(3)\n",
        "print(lst)"
      ],
      "metadata": {
        "colab": {
          "base_uri": "https://localhost:8080/"
        },
        "id": "55uKAKOM6hUt",
        "outputId": "c252b8fd-5972-4d60-9060-69627917e410"
      },
      "execution_count": 2,
      "outputs": [
        {
          "output_type": "stream",
          "name": "stdout",
          "text": [
            "index 2 is: troll\n",
            "index 2 is now: babushka\n",
            "\n",
            "length of lst is: 12\n",
            "\n",
            "index 7 and beyond [9, 0, 1, 3, 34]\n",
            "index 2 to 5 ['babushka', -4.5, 7, 7]\n",
            "every 3 elements [1, -4.5, 8, 1]\n",
            "\n",
            "[1, 3, 'babushka', -4.5, 7, 7, 8, 9, 0, 1, 3, 34, 'bob']\n",
            "[1, 3, 'babushka', -4.5, 7, 7, 8, 9, 0, 3, 34, 'bob']\n",
            "[1, 3, 'hi', 'babushka', -4.5, 7, 7, 8, 9, 0, 3, 34, 'bob']\n",
            "[1, 'hi', 'babushka', -4.5, 7, 7, 8, 9, 0, 3, 34, 'bob']\n"
          ]
        }
      ]
    },
    {
      "cell_type": "markdown",
      "source": [
        "### Dictionaries\n",
        "Dictionaries are associative arrays.  \n",
        "Order of elements don't matter (so no duplicate keys).\n",
        "Instead a *key* is associated with each *value*.  \n",
        "Kinda like a real dictionary. Words are associated with definition."
      ],
      "metadata": {
        "id": "M80WMw4u67LX"
      }
    },
    {
      "cell_type": "code",
      "source": [
        "people = {\n",
        "    \"Andrew\":\"Li\",\n",
        "    5 : \"five\",\n",
        "    \"Andrew\":\"Tate\", # Duplicate Andrew so latter one overrides first Andrew\n",
        "    \"strawberry\":\"sorbet\",\n",
        "    \"seven\":7\n",
        "}\n",
        "\n",
        "print(\"length:\", len(people)) # Number of elements in dictionary\n",
        "print(\"strawberry:\", people[\"strawberry\"])\n",
        "print(\"5:\", people[5])\n",
        "print(\"seven:\", people[\"seven\"])\n",
        "print(\"Andrew:\", people[\"Andrew\"])"
      ],
      "metadata": {
        "colab": {
          "base_uri": "https://localhost:8080/"
        },
        "id": "r4i2TCxi65wX",
        "outputId": "de810d6a-70b1-439e-cc62-5323df4d0ec4"
      },
      "execution_count": 3,
      "outputs": [
        {
          "output_type": "stream",
          "name": "stdout",
          "text": [
            "length: 4\n",
            "strawberry: sorbet\n",
            "5: five\n",
            "seven: 7\n",
            "Andrew: Tate\n"
          ]
        }
      ]
    },
    {
      "cell_type": "markdown",
      "source": [
        "### Loops and conditional statements\n"
      ],
      "metadata": {
        "id": "JybPvXcL7Els"
      }
    },
    {
      "cell_type": "code",
      "source": [
        "if True: # boolean true\n",
        "    print(\"true\")\n",
        "else:\n",
        "    print(\"false\")"
      ],
      "metadata": {
        "colab": {
          "base_uri": "https://localhost:8080/"
        },
        "id": "F3LsQPW17A2k",
        "outputId": "f417726c-6aca-4e51-d6ea-fe2f144b9918"
      },
      "execution_count": 4,
      "outputs": [
        {
          "output_type": "stream",
          "name": "stdout",
          "text": [
            "true\n"
          ]
        }
      ]
    },
    {
      "cell_type": "code",
      "source": [
        "a = [1, 2, 3, 4, 5, 6]\n",
        "if 7 in a:\n",
        "    print(\"7 is in a\")\n",
        "elif 6 in a: # else if\n",
        "    print(\"6 is in a\")\n",
        "else:\n",
        "    print(\"neither 6 or 7 is in a\")"
      ],
      "metadata": {
        "colab": {
          "base_uri": "https://localhost:8080/"
        },
        "id": "qeTLTEIZ7HC6",
        "outputId": "a21f2712-446e-4ba0-f104-184408afc43d"
      },
      "execution_count": 5,
      "outputs": [
        {
          "output_type": "stream",
          "name": "stdout",
          "text": [
            "6 is in a\n"
          ]
        }
      ]
    },
    {
      "cell_type": "code",
      "source": [
        "# instead of &&, ||, !, python uses and, or, not\n",
        "# Comparisons same as Java: <, >, >=, <=, ==, !=\n",
        "\n",
        "dictionary = {\"one\":1, \"two\":2, \"three\":3, \"four\":4, \"five\":5}\n",
        "if len(dictionary) > 5 or \"one\" in dictionary:\n",
        "    print(\"hi\")"
      ],
      "metadata": {
        "colab": {
          "base_uri": "https://localhost:8080/"
        },
        "id": "KtoWomsu7V6G",
        "outputId": "f7469764-c04d-4410-98ac-0d8965f08a08"
      },
      "execution_count": 6,
      "outputs": [
        {
          "output_type": "stream",
          "name": "stdout",
          "text": [
            "hi\n"
          ]
        }
      ]
    },
    {
      "cell_type": "code",
      "source": [
        "dictionary = {\"one\":1, \"two\":2, \"three\":3, \"four\":4, \"five\":5}\n",
        "\n",
        "# for loops\n",
        "for i in dictionary:\n",
        "    print(i)"
      ],
      "metadata": {
        "colab": {
          "base_uri": "https://localhost:8080/"
        },
        "id": "lxt5mPxC7eFN",
        "outputId": "befc815e-4d6b-4ef2-fdaf-768d3c05f78b"
      },
      "execution_count": 7,
      "outputs": [
        {
          "output_type": "stream",
          "name": "stdout",
          "text": [
            "one\n",
            "two\n",
            "three\n",
            "four\n",
            "five\n"
          ]
        }
      ]
    },
    {
      "cell_type": "code",
      "source": [
        "# Iterators\n",
        "# range(start, end (not inclusive), step)\n",
        "\n",
        "for i in range(21, 0, -3):\n",
        "    print(i)"
      ],
      "metadata": {
        "colab": {
          "base_uri": "https://localhost:8080/"
        },
        "id": "17Net2PO7imt",
        "outputId": "f92d1c77-2541-4064-95fa-7eb90239c615"
      },
      "execution_count": 8,
      "outputs": [
        {
          "output_type": "stream",
          "name": "stdout",
          "text": [
            "21\n",
            "18\n",
            "15\n",
            "12\n",
            "9\n",
            "6\n",
            "3\n"
          ]
        }
      ]
    },
    {
      "cell_type": "code",
      "source": [
        "a = [1, 2, 3, 4, 5, 6]\n",
        "\n",
        "# While loops\n",
        "while len(a) > 0:\n",
        "    print(a.pop())\n",
        "print(a)"
      ],
      "metadata": {
        "colab": {
          "base_uri": "https://localhost:8080/"
        },
        "id": "F1Mbeg2m7rx6",
        "outputId": "8b2a16c4-8788-4a7e-ddff-4d312a0dde6c"
      },
      "execution_count": 9,
      "outputs": [
        {
          "output_type": "stream",
          "name": "stdout",
          "text": [
            "6\n",
            "5\n",
            "4\n",
            "3\n",
            "2\n",
            "1\n",
            "[]\n"
          ]
        }
      ]
    },
    {
      "cell_type": "markdown",
      "source": [
        "### Functions\n",
        "Functions are objects in python.\n",
        "Kinda like methods in Java."
      ],
      "metadata": {
        "id": "PF9JmrkQ74hb"
      }
    },
    {
      "cell_type": "code",
      "source": [
        "def multiply_something(a, column=5, row=7):\n",
        "    if a > 0:\n",
        "        return a * column * row\n",
        "    else:\n",
        "        return \"string\"\n",
        "\n",
        "print(multiply_something(3, row=2))"
      ],
      "metadata": {
        "colab": {
          "base_uri": "https://localhost:8080/"
        },
        "id": "bcKKZWLu71o1",
        "outputId": "ce07b2d9-f9d6-4af6-e256-939156965f33"
      },
      "execution_count": 10,
      "outputs": [
        {
          "output_type": "stream",
          "name": "stdout",
          "text": [
            "30\n"
          ]
        }
      ]
    },
    {
      "cell_type": "markdown",
      "source": [
        "There's also other cool things you could do like \n",
        "* Explode/Gather positional and keyword arguments with `*` and `**`\n",
        "* Change mutable arguments (parameters) from inside functions (not recommended)\n",
        "* Inner functions (define function within another function)\n",
        "* Anonymous functions (lambda)\n",
        "* Generator functions and generator comprehensions\n",
        "* Decorators\n",
        "* Async Functions"
      ],
      "metadata": {
        "id": "8sGsRlOp7_u1"
      }
    },
    {
      "cell_type": "markdown",
      "source": [
        "<a id='pandas'></a>\n",
        "[Back to top (with links to other sections)](#top)\n",
        "## Pandas"
      ],
      "metadata": {
        "id": "Wcl2aAKW8DUh"
      }
    },
    {
      "cell_type": "code",
      "source": [
        "# imports Python modules\n",
        "import pandas as pd"
      ],
      "metadata": {
        "id": "txxqIr-T77kv"
      },
      "execution_count": 11,
      "outputs": []
    },
    {
      "cell_type": "markdown",
      "source": [
        "### Load csv data from `twitchdata.csv` onto pandas dataframe.  \n",
        "<details> \n",
        "  <summary>Already done for you. This is how one may go about it if file is saved locally. </summary>\n",
        "\n",
        "```python\n",
        "twitch = pd.read_csv(\"twitchdata.csv\")\n",
        "```\n",
        "</details>"
      ],
      "metadata": {
        "id": "ruGdpa-F8Je0"
      }
    },
    {
      "cell_type": "code",
      "source": [
        "twitch = pd.read_csv(\"https://raw.githubusercontent.com/MatsuiSmola-Daniel/ProClubDSData/main/twitchdata.csv\")"
      ],
      "metadata": {
        "id": "UEUzrG-X8GDz"
      },
      "execution_count": 16,
      "outputs": []
    },
    {
      "cell_type": "markdown",
      "source": [
        "### Run to display dataframe."
      ],
      "metadata": {
        "id": "HgpARpZGApNp"
      }
    },
    {
      "cell_type": "code",
      "source": [
        "display(twitch)"
      ],
      "metadata": {
        "colab": {
          "base_uri": "https://localhost:8080/",
          "height": 520
        },
        "id": "YcRSvl6p8PBc",
        "outputId": "49dda06a-5004-47a0-c2c7-8b8dd48ec07c"
      },
      "execution_count": 17,
      "outputs": [
        {
          "output_type": "display_data",
          "data": {
            "text/plain": [
              "              Channel  Watch time(Minutes)  Stream time(minutes)  \\\n",
              "0               xQcOW           6196161750                215250   \n",
              "1            summit1g           6091677300                211845   \n",
              "2              Gaules           5644590915                515280   \n",
              "3            ESL_CSGO           3970318140                517740   \n",
              "4                Tfue           3671000070                123660   \n",
              "..                ...                  ...                   ...   \n",
              "995         LITkillah            122524635                 13560   \n",
              "996  빅헤드 (bighead033)            122523705                153000   \n",
              "997    마스카 (newmasca)            122452320                217410   \n",
              "998     AndyMilonakis            122311065                104745   \n",
              "999              Remx            122192850                 99180   \n",
              "\n",
              "     Peak viewers  Average viewers  Followers  Followers gained  Views gained  \\\n",
              "0          222720            27716    3246298           1734810      93036735   \n",
              "1          310998            25610    5310163           1370184      89705964   \n",
              "2          387315            10976    1767635           1023779     102611607   \n",
              "3          300575             7714    3944850            703986     106546942   \n",
              "4          285644            29602    8938903           2068424      78998587   \n",
              "..            ...              ...        ...               ...           ...   \n",
              "995         21359             9104     601927            562691       2162107   \n",
              "996          3940              793     213212             52289       4399897   \n",
              "997          6431              567     109068             -4942       3417970   \n",
              "998         10543             1153     547446            109111       3926918   \n",
              "999         13788             1205     178553             59432       2049420   \n",
              "\n",
              "     Partnered  Mature    Language  \n",
              "0         True   False     English  \n",
              "1         True   False     English  \n",
              "2         True    True  Portuguese  \n",
              "3         True   False     English  \n",
              "4         True   False     English  \n",
              "..         ...     ...         ...  \n",
              "995       True   False     Spanish  \n",
              "996       True   False      Korean  \n",
              "997       True   False      Korean  \n",
              "998       True   False     English  \n",
              "999       True   False      French  \n",
              "\n",
              "[1000 rows x 11 columns]"
            ],
            "text/html": [
              "\n",
              "  <div id=\"df-b034cc33-9ae2-4045-8d0a-dbdb122eb607\">\n",
              "    <div class=\"colab-df-container\">\n",
              "      <div>\n",
              "<style scoped>\n",
              "    .dataframe tbody tr th:only-of-type {\n",
              "        vertical-align: middle;\n",
              "    }\n",
              "\n",
              "    .dataframe tbody tr th {\n",
              "        vertical-align: top;\n",
              "    }\n",
              "\n",
              "    .dataframe thead th {\n",
              "        text-align: right;\n",
              "    }\n",
              "</style>\n",
              "<table border=\"1\" class=\"dataframe\">\n",
              "  <thead>\n",
              "    <tr style=\"text-align: right;\">\n",
              "      <th></th>\n",
              "      <th>Channel</th>\n",
              "      <th>Watch time(Minutes)</th>\n",
              "      <th>Stream time(minutes)</th>\n",
              "      <th>Peak viewers</th>\n",
              "      <th>Average viewers</th>\n",
              "      <th>Followers</th>\n",
              "      <th>Followers gained</th>\n",
              "      <th>Views gained</th>\n",
              "      <th>Partnered</th>\n",
              "      <th>Mature</th>\n",
              "      <th>Language</th>\n",
              "    </tr>\n",
              "  </thead>\n",
              "  <tbody>\n",
              "    <tr>\n",
              "      <th>0</th>\n",
              "      <td>xQcOW</td>\n",
              "      <td>6196161750</td>\n",
              "      <td>215250</td>\n",
              "      <td>222720</td>\n",
              "      <td>27716</td>\n",
              "      <td>3246298</td>\n",
              "      <td>1734810</td>\n",
              "      <td>93036735</td>\n",
              "      <td>True</td>\n",
              "      <td>False</td>\n",
              "      <td>English</td>\n",
              "    </tr>\n",
              "    <tr>\n",
              "      <th>1</th>\n",
              "      <td>summit1g</td>\n",
              "      <td>6091677300</td>\n",
              "      <td>211845</td>\n",
              "      <td>310998</td>\n",
              "      <td>25610</td>\n",
              "      <td>5310163</td>\n",
              "      <td>1370184</td>\n",
              "      <td>89705964</td>\n",
              "      <td>True</td>\n",
              "      <td>False</td>\n",
              "      <td>English</td>\n",
              "    </tr>\n",
              "    <tr>\n",
              "      <th>2</th>\n",
              "      <td>Gaules</td>\n",
              "      <td>5644590915</td>\n",
              "      <td>515280</td>\n",
              "      <td>387315</td>\n",
              "      <td>10976</td>\n",
              "      <td>1767635</td>\n",
              "      <td>1023779</td>\n",
              "      <td>102611607</td>\n",
              "      <td>True</td>\n",
              "      <td>True</td>\n",
              "      <td>Portuguese</td>\n",
              "    </tr>\n",
              "    <tr>\n",
              "      <th>3</th>\n",
              "      <td>ESL_CSGO</td>\n",
              "      <td>3970318140</td>\n",
              "      <td>517740</td>\n",
              "      <td>300575</td>\n",
              "      <td>7714</td>\n",
              "      <td>3944850</td>\n",
              "      <td>703986</td>\n",
              "      <td>106546942</td>\n",
              "      <td>True</td>\n",
              "      <td>False</td>\n",
              "      <td>English</td>\n",
              "    </tr>\n",
              "    <tr>\n",
              "      <th>4</th>\n",
              "      <td>Tfue</td>\n",
              "      <td>3671000070</td>\n",
              "      <td>123660</td>\n",
              "      <td>285644</td>\n",
              "      <td>29602</td>\n",
              "      <td>8938903</td>\n",
              "      <td>2068424</td>\n",
              "      <td>78998587</td>\n",
              "      <td>True</td>\n",
              "      <td>False</td>\n",
              "      <td>English</td>\n",
              "    </tr>\n",
              "    <tr>\n",
              "      <th>...</th>\n",
              "      <td>...</td>\n",
              "      <td>...</td>\n",
              "      <td>...</td>\n",
              "      <td>...</td>\n",
              "      <td>...</td>\n",
              "      <td>...</td>\n",
              "      <td>...</td>\n",
              "      <td>...</td>\n",
              "      <td>...</td>\n",
              "      <td>...</td>\n",
              "      <td>...</td>\n",
              "    </tr>\n",
              "    <tr>\n",
              "      <th>995</th>\n",
              "      <td>LITkillah</td>\n",
              "      <td>122524635</td>\n",
              "      <td>13560</td>\n",
              "      <td>21359</td>\n",
              "      <td>9104</td>\n",
              "      <td>601927</td>\n",
              "      <td>562691</td>\n",
              "      <td>2162107</td>\n",
              "      <td>True</td>\n",
              "      <td>False</td>\n",
              "      <td>Spanish</td>\n",
              "    </tr>\n",
              "    <tr>\n",
              "      <th>996</th>\n",
              "      <td>빅헤드 (bighead033)</td>\n",
              "      <td>122523705</td>\n",
              "      <td>153000</td>\n",
              "      <td>3940</td>\n",
              "      <td>793</td>\n",
              "      <td>213212</td>\n",
              "      <td>52289</td>\n",
              "      <td>4399897</td>\n",
              "      <td>True</td>\n",
              "      <td>False</td>\n",
              "      <td>Korean</td>\n",
              "    </tr>\n",
              "    <tr>\n",
              "      <th>997</th>\n",
              "      <td>마스카 (newmasca)</td>\n",
              "      <td>122452320</td>\n",
              "      <td>217410</td>\n",
              "      <td>6431</td>\n",
              "      <td>567</td>\n",
              "      <td>109068</td>\n",
              "      <td>-4942</td>\n",
              "      <td>3417970</td>\n",
              "      <td>True</td>\n",
              "      <td>False</td>\n",
              "      <td>Korean</td>\n",
              "    </tr>\n",
              "    <tr>\n",
              "      <th>998</th>\n",
              "      <td>AndyMilonakis</td>\n",
              "      <td>122311065</td>\n",
              "      <td>104745</td>\n",
              "      <td>10543</td>\n",
              "      <td>1153</td>\n",
              "      <td>547446</td>\n",
              "      <td>109111</td>\n",
              "      <td>3926918</td>\n",
              "      <td>True</td>\n",
              "      <td>False</td>\n",
              "      <td>English</td>\n",
              "    </tr>\n",
              "    <tr>\n",
              "      <th>999</th>\n",
              "      <td>Remx</td>\n",
              "      <td>122192850</td>\n",
              "      <td>99180</td>\n",
              "      <td>13788</td>\n",
              "      <td>1205</td>\n",
              "      <td>178553</td>\n",
              "      <td>59432</td>\n",
              "      <td>2049420</td>\n",
              "      <td>True</td>\n",
              "      <td>False</td>\n",
              "      <td>French</td>\n",
              "    </tr>\n",
              "  </tbody>\n",
              "</table>\n",
              "<p>1000 rows × 11 columns</p>\n",
              "</div>\n",
              "      <button class=\"colab-df-convert\" onclick=\"convertToInteractive('df-b034cc33-9ae2-4045-8d0a-dbdb122eb607')\"\n",
              "              title=\"Convert this dataframe to an interactive table.\"\n",
              "              style=\"display:none;\">\n",
              "        \n",
              "  <svg xmlns=\"http://www.w3.org/2000/svg\" height=\"24px\"viewBox=\"0 0 24 24\"\n",
              "       width=\"24px\">\n",
              "    <path d=\"M0 0h24v24H0V0z\" fill=\"none\"/>\n",
              "    <path d=\"M18.56 5.44l.94 2.06.94-2.06 2.06-.94-2.06-.94-.94-2.06-.94 2.06-2.06.94zm-11 1L8.5 8.5l.94-2.06 2.06-.94-2.06-.94L8.5 2.5l-.94 2.06-2.06.94zm10 10l.94 2.06.94-2.06 2.06-.94-2.06-.94-.94-2.06-.94 2.06-2.06.94z\"/><path d=\"M17.41 7.96l-1.37-1.37c-.4-.4-.92-.59-1.43-.59-.52 0-1.04.2-1.43.59L10.3 9.45l-7.72 7.72c-.78.78-.78 2.05 0 2.83L4 21.41c.39.39.9.59 1.41.59.51 0 1.02-.2 1.41-.59l7.78-7.78 2.81-2.81c.8-.78.8-2.07 0-2.86zM5.41 20L4 18.59l7.72-7.72 1.47 1.35L5.41 20z\"/>\n",
              "  </svg>\n",
              "      </button>\n",
              "      \n",
              "  <style>\n",
              "    .colab-df-container {\n",
              "      display:flex;\n",
              "      flex-wrap:wrap;\n",
              "      gap: 12px;\n",
              "    }\n",
              "\n",
              "    .colab-df-convert {\n",
              "      background-color: #E8F0FE;\n",
              "      border: none;\n",
              "      border-radius: 50%;\n",
              "      cursor: pointer;\n",
              "      display: none;\n",
              "      fill: #1967D2;\n",
              "      height: 32px;\n",
              "      padding: 0 0 0 0;\n",
              "      width: 32px;\n",
              "    }\n",
              "\n",
              "    .colab-df-convert:hover {\n",
              "      background-color: #E2EBFA;\n",
              "      box-shadow: 0px 1px 2px rgba(60, 64, 67, 0.3), 0px 1px 3px 1px rgba(60, 64, 67, 0.15);\n",
              "      fill: #174EA6;\n",
              "    }\n",
              "\n",
              "    [theme=dark] .colab-df-convert {\n",
              "      background-color: #3B4455;\n",
              "      fill: #D2E3FC;\n",
              "    }\n",
              "\n",
              "    [theme=dark] .colab-df-convert:hover {\n",
              "      background-color: #434B5C;\n",
              "      box-shadow: 0px 1px 3px 1px rgba(0, 0, 0, 0.15);\n",
              "      filter: drop-shadow(0px 1px 2px rgba(0, 0, 0, 0.3));\n",
              "      fill: #FFFFFF;\n",
              "    }\n",
              "  </style>\n",
              "\n",
              "      <script>\n",
              "        const buttonEl =\n",
              "          document.querySelector('#df-b034cc33-9ae2-4045-8d0a-dbdb122eb607 button.colab-df-convert');\n",
              "        buttonEl.style.display =\n",
              "          google.colab.kernel.accessAllowed ? 'block' : 'none';\n",
              "\n",
              "        async function convertToInteractive(key) {\n",
              "          const element = document.querySelector('#df-b034cc33-9ae2-4045-8d0a-dbdb122eb607');\n",
              "          const dataTable =\n",
              "            await google.colab.kernel.invokeFunction('convertToInteractive',\n",
              "                                                     [key], {});\n",
              "          if (!dataTable) return;\n",
              "\n",
              "          const docLinkHtml = 'Like what you see? Visit the ' +\n",
              "            '<a target=\"_blank\" href=https://colab.research.google.com/notebooks/data_table.ipynb>data table notebook</a>'\n",
              "            + ' to learn more about interactive tables.';\n",
              "          element.innerHTML = '';\n",
              "          dataTable['output_type'] = 'display_data';\n",
              "          await google.colab.output.renderOutput(dataTable, element);\n",
              "          const docLink = document.createElement('div');\n",
              "          docLink.innerHTML = docLinkHtml;\n",
              "          element.appendChild(docLink);\n",
              "        }\n",
              "      </script>\n",
              "    </div>\n",
              "  </div>\n",
              "  "
            ]
          },
          "metadata": {}
        }
      ]
    },
    {
      "cell_type": "markdown",
      "source": [
        "### Print the number of rows and columns in the numpy array. (hint use `twitch.shape`)\n",
        "<details> \n",
        "  <summary>Click to reveal answer. </summary>\n",
        "\n",
        "```python\n",
        "row, col = twitch.shape\n",
        "print(row)\n",
        "print(col)\n",
        "```\n",
        "</details>"
      ],
      "metadata": {
        "id": "QimdWhoDCOpT"
      }
    },
    {
      "cell_type": "code",
      "source": [
        "row, col =\n",
        "print(row)\n",
        "print(col)"
      ],
      "metadata": {
        "id": "Bq741DxnCIxr"
      },
      "execution_count": null,
      "outputs": []
    },
    {
      "cell_type": "markdown",
      "source": [
        "### Print list of columns\n",
        "<details> \n",
        "  <summary>Click to reveal answer. </summary>\n",
        "\n",
        "```python\n",
        "print(twitch.columns)\n",
        "```\n",
        "</details>"
      ],
      "metadata": {
        "id": "hQUTlyZSCVtK"
      }
    },
    {
      "cell_type": "code",
      "source": [
        "print()"
      ],
      "metadata": {
        "id": "bV4vdZyzCSq7"
      },
      "execution_count": null,
      "outputs": []
    },
    {
      "cell_type": "markdown",
      "source": [
        "### Print the `Watch time(Minutes)` column\n",
        "<details> \n",
        "  <summary>Click to reveal answer. </summary>\n",
        "\n",
        "```python\n",
        "print(twitch[\"Watch time(Minutes)\"])\n",
        "```\n",
        "or  \n",
        "```python\n",
        "print(twitch[twitch.columns[1]])\n",
        "```\n",
        "</details>"
      ],
      "metadata": {
        "id": "jsIrRzzpCkpo"
      }
    },
    {
      "cell_type": "code",
      "source": [
        "print()"
      ],
      "metadata": {
        "id": "vulxg0VaCe4-"
      },
      "execution_count": null,
      "outputs": []
    },
    {
      "cell_type": "markdown",
      "source": [
        "### Find the average stream time for all the twitch streamers  \n",
        "hint: You don't have to use a loop\n",
        "<details> \n",
        "  <summary>Click to reveal answer. </summary>\n",
        "\n",
        "```python\n",
        "print(twitch[twitch.columns[2]].mean())\n",
        "```\n",
        "</details>"
      ],
      "metadata": {
        "id": "OMp5pUjTCtSu"
      }
    },
    {
      "cell_type": "code",
      "source": [
        "print()"
      ],
      "metadata": {
        "id": "ZYdYqM0gCnFL"
      },
      "execution_count": null,
      "outputs": []
    },
    {
      "cell_type": "markdown",
      "source": [
        "### Add a column that contains (watch time / stream time) data  \n",
        "`twitch.head()` will output first 5 rows so you can check your work.  \n",
        "hint: No need to use loops\n",
        "<details> \n",
        "  <summary>Click to reveal answer. </summary>\n",
        "\n",
        "```python\n",
        "twitch[\"Watch / Stream\"] = twitch[twitch.columns[1]] / twitch[twitch.columns[2]]\n",
        "twitch.head()\n",
        "```\n",
        "</details>"
      ],
      "metadata": {
        "id": "ouz8jqdsC0KW"
      }
    },
    {
      "cell_type": "code",
      "source": [
        "twitch[\"Watch / Stream\"] = \n",
        "twitch.head()"
      ],
      "metadata": {
        "id": "Agohc4gMCvET"
      },
      "execution_count": null,
      "outputs": []
    },
    {
      "cell_type": "markdown",
      "source": [
        "### Display a dataframe containing twitch viewers with less than 5000 average viewers\n",
        "hint: No need to loop\n",
        "<details> \n",
        "  <summary>Click to reveal answer. </summary>\n",
        "\n",
        "```python\n",
        "display(twitch[twitch[\"Average viewers\"] < 5000])\n",
        "```\n",
        "</details>"
      ],
      "metadata": {
        "id": "RHB5Yz1mC-iK"
      }
    },
    {
      "cell_type": "code",
      "source": [
        "display()"
      ],
      "metadata": {
        "id": "cVe1J4xBC5bZ"
      },
      "execution_count": null,
      "outputs": []
    },
    {
      "cell_type": "markdown",
      "source": [
        "<a id='matplotlib'></a>\n",
        "[Back to top (with links to other sections)](#top)\n",
        "## Matplotlib\n",
        "Just a sample. \n",
        "Visit https://matplotlib.org/ for more."
      ],
      "metadata": {
        "id": "B0x1_CKnDKVG"
      }
    },
    {
      "cell_type": "code",
      "source": [
        "# imports matplotlib\n",
        "import matplotlib.pyplot as plt"
      ],
      "metadata": {
        "id": "70h25PZXDCfn"
      },
      "execution_count": 25,
      "outputs": []
    },
    {
      "cell_type": "code",
      "source": [
        "plt.scatter(twitch[\"Average viewers\"], twitch[\"Peak viewers\"], alpha = 0.2) # alpha sets opacity\n",
        "plt.xlabel(\"Average viewers\")\n",
        "plt.ylabel(\"Peak viewers\")\n",
        "plt.title(\"Peak vs Average viewers\")\n",
        "plt.show()"
      ],
      "metadata": {
        "colab": {
          "base_uri": "https://localhost:8080/",
          "height": 472
        },
        "id": "j5up0j8oDMmz",
        "outputId": "74b11030-b996-4217-f4d6-a6cb59043e84"
      },
      "execution_count": 26,
      "outputs": [
        {
          "output_type": "display_data",
          "data": {
            "text/plain": [
              "<Figure size 640x480 with 1 Axes>"
            ],
            "image/png": "[encoded data removed]"
          },
          "metadata": {}
        }
      ]
    },
    {
      "cell_type": "markdown",
      "source": [
        "<a id='reg'></a>\n",
        "[Back to top (with links to other sections)](#top)\n",
        "## Linear Regression Project\n",
        "### Task: Use Linear Regression to analyze the death rate of cancer patients in various US counties. "
      ],
      "metadata": {
        "id": "PP3oJEuiDRpF"
      }
    },
    {
      "cell_type": "code",
      "source": [
        "# import LinearRegression from sklearn\n",
        "from sklearn.linear_model import LinearRegression\n",
        "import pandas as pd\n",
        "import numpy as np"
      ],
      "metadata": {
        "id": "bDUhdGNADUEn"
      },
      "execution_count": 27,
      "outputs": []
    },
    {
      "cell_type": "markdown",
      "source": [
        "### Read data from `cancer.csv` onto pandas dataframe\n",
        "hint: add parameter `encoding ='latin1'` to `read_csv`\n",
        "<details> \n",
        "  <summary>Click to reveal answer. </summary>\n",
        "\n",
        "```python\n",
        "url = \"https://raw.githubusercontent.com/MatsuiSmola-Daniel/ProClubDSData/main/cancer.csv\"\n",
        "cancer = pd.read_csv(url, encoding ='latin1')\n",
        "```\n",
        "</details>"
      ],
      "metadata": {
        "id": "6ASzTiNEDYsX"
      }
    },
    {
      "cell_type": "code",
      "source": [
        "url = \"https://raw.githubusercontent.com/MatsuiSmola-Daniel/ProClubDSData/main/cancer.csv\"\n",
        "cancer = pd.read_csv(url, encoding ='latin1')"
      ],
      "metadata": {
        "id": "9zxdzzu3DWgc"
      },
      "execution_count": 28,
      "outputs": []
    },
    {
      "cell_type": "markdown",
      "source": [
        "### Display the dataframe"
      ],
      "metadata": {
        "id": "cq0Gr3dYD1oI"
      }
    },
    {
      "cell_type": "code",
      "source": [
        "display(cancer)"
      ],
      "metadata": {
        "colab": {
          "base_uri": "https://localhost:8080/",
          "height": 661
        },
        "id": "6xUCliv6DpPw",
        "outputId": "9de32a4e-8ba0-41a6-d58c-cbcc5cc315fb"
      },
      "execution_count": 29,
      "outputs": [
        {
          "output_type": "display_data",
          "data": {
            "text/plain": [
              "      avgAnnCount  avgDeathsPerYear  TARGET_deathRate  incidenceRate  \\\n",
              "0     1397.000000               469             164.9     489.800000   \n",
              "1      173.000000                70             161.3     411.600000   \n",
              "2      102.000000                50             174.7     349.700000   \n",
              "3      427.000000               202             194.8     430.400000   \n",
              "4       57.000000                26             144.4     350.100000   \n",
              "...           ...               ...               ...            ...   \n",
              "3042  1962.667684                15             149.6     453.549422   \n",
              "3043  1962.667684                43             150.1     453.549422   \n",
              "3044  1962.667684                46             153.9     453.549422   \n",
              "3045  1962.667684                52             175.0     453.549422   \n",
              "3046  1962.667684                48             213.6     453.549422   \n",
              "\n",
              "      medIncome  popEst2015  povertyPercent  studyPerCap           binnedInc  \\\n",
              "0         61898      260131            11.2   499.748204   (61494.5, 125635]   \n",
              "1         48127       43269            18.6    23.111234  (48021.6, 51046.4]   \n",
              "2         49348       21026            14.6    47.560164  (48021.6, 51046.4]   \n",
              "3         44243       75882            17.1   342.637253    (42724.4, 45201]   \n",
              "4         49955       10321            12.5     0.000000  (48021.6, 51046.4]   \n",
              "...         ...         ...             ...          ...                 ...   \n",
              "3042      46961        6343            12.4     0.000000    (45201, 48021.6]   \n",
              "3043      48609       37118            18.8   377.175494  (48021.6, 51046.4]   \n",
              "3044      51144       34536            15.0  1968.959926  (51046.4, 54545.6]   \n",
              "3045      50745       25609            13.3     0.000000  (48021.6, 51046.4]   \n",
              "3046      41193       37030            13.9     0.000000  (40362.7, 42724.4]   \n",
              "\n",
              "      MedianAge  ...  PctPrivateCoverageAlone  PctEmpPrivCoverage  \\\n",
              "0          39.3  ...                      NaN                41.6   \n",
              "1          33.0  ...                     53.8                43.6   \n",
              "2          45.0  ...                     43.5                34.9   \n",
              "3          42.8  ...                     40.3                35.0   \n",
              "4          48.3  ...                     43.9                35.1   \n",
              "...         ...  ...                      ...                 ...   \n",
              "3042       44.2  ...                     54.9                44.6   \n",
              "3043       30.4  ...                     53.3                48.6   \n",
              "3044       30.9  ...                     52.6                47.8   \n",
              "3045       39.0  ...                     56.3                49.6   \n",
              "3046       26.2  ...                     60.3                22.9   \n",
              "\n",
              "     PctPublicCoverage  PctPublicCoverageAlone   PctWhite   PctBlack  \\\n",
              "0                 32.9                    14.0  81.780529   2.594728   \n",
              "1                 31.1                    15.3  89.228509   0.969102   \n",
              "2                 42.1                    21.1  90.922190   0.739673   \n",
              "3                 45.3                    25.0  91.744686   0.782626   \n",
              "4                 44.0                    22.7  94.104024   0.270192   \n",
              "...                ...                     ...        ...        ...   \n",
              "3042              31.7                    13.2  90.280811   3.837754   \n",
              "3043              28.8                    17.7  75.706245   2.326771   \n",
              "3044              26.6                    16.8  87.961629   2.313188   \n",
              "3045              29.5                    14.0  92.905681   1.176562   \n",
              "3046              25.1                    12.6  70.098132  16.590100   \n",
              "\n",
              "      PctAsian  PctOtherRace  PctMarriedHouseholds  BirthRate  \n",
              "0     4.821857      1.843479             52.856076   6.118831  \n",
              "1     2.246233      3.741352             45.372500   4.333096  \n",
              "2     0.465898      2.747358             54.444868   3.729488  \n",
              "3     1.161359      1.362643             51.021514   4.603841  \n",
              "4     0.665830      0.492135             54.027460   6.796657  \n",
              "...        ...           ...                   ...        ...  \n",
              "3042  0.327613      1.700468             51.063830   7.773512  \n",
              "3043  4.044920     14.130288             52.007937   8.186470  \n",
              "3044  1.316472      5.680705             55.153949   7.809192  \n",
              "3045  0.244632      2.131790             58.484232   7.582938  \n",
              "3046  3.177753      1.356457             56.040242   8.981723  \n",
              "\n",
              "[3047 rows x 34 columns]"
            ],
            "text/html": [
              "\n",
              "  <div id=\"df-6de23f38-6a35-47a5-8f49-4f5e2de30737\">\n",
              "    <div class=\"colab-df-container\">\n",
              "      <div>\n",
              "<style scoped>\n",
              "    .dataframe tbody tr th:only-of-type {\n",
              "        vertical-align: middle;\n",
              "    }\n",
              "\n",
              "    .dataframe tbody tr th {\n",
              "        vertical-align: top;\n",
              "    }\n",
              "\n",
              "    .dataframe thead th {\n",
              "        text-align: right;\n",
              "    }\n",
              "</style>\n",
              "<table border=\"1\" class=\"dataframe\">\n",
              "  <thead>\n",
              "    <tr style=\"text-align: right;\">\n",
              "      <th></th>\n",
              "      <th>avgAnnCount</th>\n",
              "      <th>avgDeathsPerYear</th>\n",
              "      <th>TARGET_deathRate</th>\n",
              "      <th>incidenceRate</th>\n",
              "      <th>medIncome</th>\n",
              "      <th>popEst2015</th>\n",
              "      <th>povertyPercent</th>\n",
              "      <th>studyPerCap</th>\n",
              "      <th>binnedInc</th>\n",
              "      <th>MedianAge</th>\n",
              "      <th>...</th>\n",
              "      <th>PctPrivateCoverageAlone</th>\n",
              "      <th>PctEmpPrivCoverage</th>\n",
              "      <th>PctPublicCoverage</th>\n",
              "      <th>PctPublicCoverageAlone</th>\n",
              "      <th>PctWhite</th>\n",
              "      <th>PctBlack</th>\n",
              "      <th>PctAsian</th>\n",
              "      <th>PctOtherRace</th>\n",
              "      <th>PctMarriedHouseholds</th>\n",
              "      <th>BirthRate</th>\n",
              "    </tr>\n",
              "  </thead>\n",
              "  <tbody>\n",
              "    <tr>\n",
              "      <th>0</th>\n",
              "      <td>1397.000000</td>\n",
              "      <td>469</td>\n",
              "      <td>164.9</td>\n",
              "      <td>489.800000</td>\n",
              "      <td>61898</td>\n",
              "      <td>260131</td>\n",
              "      <td>11.2</td>\n",
              "      <td>499.748204</td>\n",
              "      <td>(61494.5, 125635]</td>\n",
              "      <td>39.3</td>\n",
              "      <td>...</td>\n",
              "      <td>NaN</td>\n",
              "      <td>41.6</td>\n",
              "      <td>32.9</td>\n",
              "      <td>14.0</td>\n",
              "      <td>81.780529</td>\n",
              "      <td>2.594728</td>\n",
              "      <td>4.821857</td>\n",
              "      <td>1.843479</td>\n",
              "      <td>52.856076</td>\n",
              "      <td>6.118831</td>\n",
              "    </tr>\n",
              "    <tr>\n",
              "      <th>1</th>\n",
              "      <td>173.000000</td>\n",
              "      <td>70</td>\n",
              "      <td>161.3</td>\n",
              "      <td>411.600000</td>\n",
              "      <td>48127</td>\n",
              "      <td>43269</td>\n",
              "      <td>18.6</td>\n",
              "      <td>23.111234</td>\n",
              "      <td>(48021.6, 51046.4]</td>\n",
              "      <td>33.0</td>\n",
              "      <td>...</td>\n",
              "      <td>53.8</td>\n",
              "      <td>43.6</td>\n",
              "      <td>31.1</td>\n",
              "      <td>15.3</td>\n",
              "      <td>89.228509</td>\n",
              "      <td>0.969102</td>\n",
              "      <td>2.246233</td>\n",
              "      <td>3.741352</td>\n",
              "      <td>45.372500</td>\n",
              "      <td>4.333096</td>\n",
              "    </tr>\n",
              "    <tr>\n",
              "      <th>2</th>\n",
              "      <td>102.000000</td>\n",
              "      <td>50</td>\n",
              "      <td>174.7</td>\n",
              "      <td>349.700000</td>\n",
              "      <td>49348</td>\n",
              "      <td>21026</td>\n",
              "      <td>14.6</td>\n",
              "      <td>47.560164</td>\n",
              "      <td>(48021.6, 51046.4]</td>\n",
              "      <td>45.0</td>\n",
              "      <td>...</td>\n",
              "      <td>43.5</td>\n",
              "      <td>34.9</td>\n",
              "      <td>42.1</td>\n",
              "      <td>21.1</td>\n",
              "      <td>90.922190</td>\n",
              "      <td>0.739673</td>\n",
              "      <td>0.465898</td>\n",
              "      <td>2.747358</td>\n",
              "      <td>54.444868</td>\n",
              "      <td>3.729488</td>\n",
              "    </tr>\n",
              "    <tr>\n",
              "      <th>3</th>\n",
              "      <td>427.000000</td>\n",
              "      <td>202</td>\n",
              "      <td>194.8</td>\n",
              "      <td>430.400000</td>\n",
              "      <td>44243</td>\n",
              "      <td>75882</td>\n",
              "      <td>17.1</td>\n",
              "      <td>342.637253</td>\n",
              "      <td>(42724.4, 45201]</td>\n",
              "      <td>42.8</td>\n",
              "      <td>...</td>\n",
              "      <td>40.3</td>\n",
              "      <td>35.0</td>\n",
              "      <td>45.3</td>\n",
              "      <td>25.0</td>\n",
              "      <td>91.744686</td>\n",
              "      <td>0.782626</td>\n",
              "      <td>1.161359</td>\n",
              "      <td>1.362643</td>\n",
              "      <td>51.021514</td>\n",
              "      <td>4.603841</td>\n",
              "    </tr>\n",
              "    <tr>\n",
              "      <th>4</th>\n",
              "      <td>57.000000</td>\n",
              "      <td>26</td>\n",
              "      <td>144.4</td>\n",
              "      <td>350.100000</td>\n",
              "      <td>49955</td>\n",
              "      <td>10321</td>\n",
              "      <td>12.5</td>\n",
              "      <td>0.000000</td>\n",
              "      <td>(48021.6, 51046.4]</td>\n",
              "      <td>48.3</td>\n",
              "      <td>...</td>\n",
              "      <td>43.9</td>\n",
              "      <td>35.1</td>\n",
              "      <td>44.0</td>\n",
              "      <td>22.7</td>\n",
              "      <td>94.104024</td>\n",
              "      <td>0.270192</td>\n",
              "      <td>0.665830</td>\n",
              "      <td>0.492135</td>\n",
              "      <td>54.027460</td>\n",
              "      <td>6.796657</td>\n",
              "    </tr>\n",
              "    <tr>\n",
              "      <th>...</th>\n",
              "      <td>...</td>\n",
              "      <td>...</td>\n",
              "      <td>...</td>\n",
              "      <td>...</td>\n",
              "      <td>...</td>\n",
              "      <td>...</td>\n",
              "      <td>...</td>\n",
              "      <td>...</td>\n",
              "      <td>...</td>\n",
              "      <td>...</td>\n",
              "      <td>...</td>\n",
              "      <td>...</td>\n",
              "      <td>...</td>\n",
              "      <td>...</td>\n",
              "      <td>...</td>\n",
              "      <td>...</td>\n",
              "      <td>...</td>\n",
              "      <td>...</td>\n",
              "      <td>...</td>\n",
              "      <td>...</td>\n",
              "      <td>...</td>\n",
              "    </tr>\n",
              "    <tr>\n",
              "      <th>3042</th>\n",
              "      <td>1962.667684</td>\n",
              "      <td>15</td>\n",
              "      <td>149.6</td>\n",
              "      <td>453.549422</td>\n",
              "      <td>46961</td>\n",
              "      <td>6343</td>\n",
              "      <td>12.4</td>\n",
              "      <td>0.000000</td>\n",
              "      <td>(45201, 48021.6]</td>\n",
              "      <td>44.2</td>\n",
              "      <td>...</td>\n",
              "      <td>54.9</td>\n",
              "      <td>44.6</td>\n",
              "      <td>31.7</td>\n",
              "      <td>13.2</td>\n",
              "      <td>90.280811</td>\n",
              "      <td>3.837754</td>\n",
              "      <td>0.327613</td>\n",
              "      <td>1.700468</td>\n",
              "      <td>51.063830</td>\n",
              "      <td>7.773512</td>\n",
              "    </tr>\n",
              "    <tr>\n",
              "      <th>3043</th>\n",
              "      <td>1962.667684</td>\n",
              "      <td>43</td>\n",
              "      <td>150.1</td>\n",
              "      <td>453.549422</td>\n",
              "      <td>48609</td>\n",
              "      <td>37118</td>\n",
              "      <td>18.8</td>\n",
              "      <td>377.175494</td>\n",
              "      <td>(48021.6, 51046.4]</td>\n",
              "      <td>30.4</td>\n",
              "      <td>...</td>\n",
              "      <td>53.3</td>\n",
              "      <td>48.6</td>\n",
              "      <td>28.8</td>\n",
              "      <td>17.7</td>\n",
              "      <td>75.706245</td>\n",
              "      <td>2.326771</td>\n",
              "      <td>4.044920</td>\n",
              "      <td>14.130288</td>\n",
              "      <td>52.007937</td>\n",
              "      <td>8.186470</td>\n",
              "    </tr>\n",
              "    <tr>\n",
              "      <th>3044</th>\n",
              "      <td>1962.667684</td>\n",
              "      <td>46</td>\n",
              "      <td>153.9</td>\n",
              "      <td>453.549422</td>\n",
              "      <td>51144</td>\n",
              "      <td>34536</td>\n",
              "      <td>15.0</td>\n",
              "      <td>1968.959926</td>\n",
              "      <td>(51046.4, 54545.6]</td>\n",
              "      <td>30.9</td>\n",
              "      <td>...</td>\n",
              "      <td>52.6</td>\n",
              "      <td>47.8</td>\n",
              "      <td>26.6</td>\n",
              "      <td>16.8</td>\n",
              "      <td>87.961629</td>\n",
              "      <td>2.313188</td>\n",
              "      <td>1.316472</td>\n",
              "      <td>5.680705</td>\n",
              "      <td>55.153949</td>\n",
              "      <td>7.809192</td>\n",
              "    </tr>\n",
              "    <tr>\n",
              "      <th>3045</th>\n",
              "      <td>1962.667684</td>\n",
              "      <td>52</td>\n",
              "      <td>175.0</td>\n",
              "      <td>453.549422</td>\n",
              "      <td>50745</td>\n",
              "      <td>25609</td>\n",
              "      <td>13.3</td>\n",
              "      <td>0.000000</td>\n",
              "      <td>(48021.6, 51046.4]</td>\n",
              "      <td>39.0</td>\n",
              "      <td>...</td>\n",
              "      <td>56.3</td>\n",
              "      <td>49.6</td>\n",
              "      <td>29.5</td>\n",
              "      <td>14.0</td>\n",
              "      <td>92.905681</td>\n",
              "      <td>1.176562</td>\n",
              "      <td>0.244632</td>\n",
              "      <td>2.131790</td>\n",
              "      <td>58.484232</td>\n",
              "      <td>7.582938</td>\n",
              "    </tr>\n",
              "    <tr>\n",
              "      <th>3046</th>\n",
              "      <td>1962.667684</td>\n",
              "      <td>48</td>\n",
              "      <td>213.6</td>\n",
              "      <td>453.549422</td>\n",
              "      <td>41193</td>\n",
              "      <td>37030</td>\n",
              "      <td>13.9</td>\n",
              "      <td>0.000000</td>\n",
              "      <td>(40362.7, 42724.4]</td>\n",
              "      <td>26.2</td>\n",
              "      <td>...</td>\n",
              "      <td>60.3</td>\n",
              "      <td>22.9</td>\n",
              "      <td>25.1</td>\n",
              "      <td>12.6</td>\n",
              "      <td>70.098132</td>\n",
              "      <td>16.590100</td>\n",
              "      <td>3.177753</td>\n",
              "      <td>1.356457</td>\n",
              "      <td>56.040242</td>\n",
              "      <td>8.981723</td>\n",
              "    </tr>\n",
              "  </tbody>\n",
              "</table>\n",
              "<p>3047 rows × 34 columns</p>\n",
              "</div>\n",
              "      <button class=\"colab-df-convert\" onclick=\"convertToInteractive('df-6de23f38-6a35-47a5-8f49-4f5e2de30737')\"\n",
              "              title=\"Convert this dataframe to an interactive table.\"\n",
              "              style=\"display:none;\">\n",
              "        \n",
              "  <svg xmlns=\"http://www.w3.org/2000/svg\" height=\"24px\"viewBox=\"0 0 24 24\"\n",
              "       width=\"24px\">\n",
              "    <path d=\"M0 0h24v24H0V0z\" fill=\"none\"/>\n",
              "    <path d=\"M18.56 5.44l.94 2.06.94-2.06 2.06-.94-2.06-.94-.94-2.06-.94 2.06-2.06.94zm-11 1L8.5 8.5l.94-2.06 2.06-.94-2.06-.94L8.5 2.5l-.94 2.06-2.06.94zm10 10l.94 2.06.94-2.06 2.06-.94-2.06-.94-.94-2.06-.94 2.06-2.06.94z\"/><path d=\"M17.41 7.96l-1.37-1.37c-.4-.4-.92-.59-1.43-.59-.52 0-1.04.2-1.43.59L10.3 9.45l-7.72 7.72c-.78.78-.78 2.05 0 2.83L4 21.41c.39.39.9.59 1.41.59.51 0 1.02-.2 1.41-.59l7.78-7.78 2.81-2.81c.8-.78.8-2.07 0-2.86zM5.41 20L4 18.59l7.72-7.72 1.47 1.35L5.41 20z\"/>\n",
              "  </svg>\n",
              "      </button>\n",
              "      \n",
              "  <style>\n",
              "    .colab-df-container {\n",
              "      display:flex;\n",
              "      flex-wrap:wrap;\n",
              "      gap: 12px;\n",
              "    }\n",
              "\n",
              "    .colab-df-convert {\n",
              "      background-color: #E8F0FE;\n",
              "      border: none;\n",
              "      border-radius: 50%;\n",
              "      cursor: pointer;\n",
              "      display: none;\n",
              "      fill: #1967D2;\n",
              "      height: 32px;\n",
              "      padding: 0 0 0 0;\n",
              "      width: 32px;\n",
              "    }\n",
              "\n",
              "    .colab-df-convert:hover {\n",
              "      background-color: #E2EBFA;\n",
              "      box-shadow: 0px 1px 2px rgba(60, 64, 67, 0.3), 0px 1px 3px 1px rgba(60, 64, 67, 0.15);\n",
              "      fill: #174EA6;\n",
              "    }\n",
              "\n",
              "    [theme=dark] .colab-df-convert {\n",
              "      background-color: #3B4455;\n",
              "      fill: #D2E3FC;\n",
              "    }\n",
              "\n",
              "    [theme=dark] .colab-df-convert:hover {\n",
              "      background-color: #434B5C;\n",
              "      box-shadow: 0px 1px 3px 1px rgba(0, 0, 0, 0.15);\n",
              "      filter: drop-shadow(0px 1px 2px rgba(0, 0, 0, 0.3));\n",
              "      fill: #FFFFFF;\n",
              "    }\n",
              "  </style>\n",
              "\n",
              "      <script>\n",
              "        const buttonEl =\n",
              "          document.querySelector('#df-6de23f38-6a35-47a5-8f49-4f5e2de30737 button.colab-df-convert');\n",
              "        buttonEl.style.display =\n",
              "          google.colab.kernel.accessAllowed ? 'block' : 'none';\n",
              "\n",
              "        async function convertToInteractive(key) {\n",
              "          const element = document.querySelector('#df-6de23f38-6a35-47a5-8f49-4f5e2de30737');\n",
              "          const dataTable =\n",
              "            await google.colab.kernel.invokeFunction('convertToInteractive',\n",
              "                                                     [key], {});\n",
              "          if (!dataTable) return;\n",
              "\n",
              "          const docLinkHtml = 'Like what you see? Visit the ' +\n",
              "            '<a target=\"_blank\" href=https://colab.research.google.com/notebooks/data_table.ipynb>data table notebook</a>'\n",
              "            + ' to learn more about interactive tables.';\n",
              "          element.innerHTML = '';\n",
              "          dataTable['output_type'] = 'display_data';\n",
              "          await google.colab.output.renderOutput(dataTable, element);\n",
              "          const docLink = document.createElement('div');\n",
              "          docLink.innerHTML = docLinkHtml;\n",
              "          element.appendChild(docLink);\n",
              "        }\n",
              "      </script>\n",
              "    </div>\n",
              "  </div>\n",
              "  "
            ]
          },
          "metadata": {}
        }
      ]
    },
    {
      "cell_type": "markdown",
      "source": [
        "### Here's some information about the data\n",
        "<details> \n",
        "  <summary>Click to expand. </summary>\n",
        "\n",
        "**TARGET_deathRate:** Dependent variable. Mean per capita (100,000) cancer mortalities(a)\n",
        "\n",
        "**avgAnnCount:** Mean number of reported cases of cancer diagnosed annually(a)\n",
        "\n",
        "**avgDeathsPerYear:** Mean number of reported mortalities due to cancer(a)\n",
        "\n",
        "**incidenceRate:** Mean per capita (100,000) cancer diagoses(a)\n",
        "\n",
        "**medianIncome:** Median income per county (b)\n",
        "\n",
        "**popEst2015:** Population of county (b)\n",
        "\n",
        "**povertyPercent:** Percent of populace in poverty (b)\n",
        "\n",
        "**studyPerCap:** Per capita number of cancer-related clinical trials per county (a)\n",
        "\n",
        "**binnedInc:** Median income per capita binned by decile (b)\n",
        "\n",
        "**MedianAge:** Median age of county residents (b)\n",
        "\n",
        "**MedianAgeMale:** Median age of male county residents (b)\n",
        "\n",
        "**MedianAgeFemale:** Median age of female county residents (b)\n",
        "\n",
        "**Geography:** County name (b)\n",
        "\n",
        "**AvgHouseholdSize:** Mean household size of county (b)\n",
        "\n",
        "**PercentMarried:** Percent of county residents who are married (b)\n",
        "\n",
        "**PctNoHS18_24:** Percent of county residents ages 18-24 highest education attained: less than high school (b)\n",
        "\n",
        "**PctHS18_24:** Percent of county residents ages 18-24 highest education attained: high school diploma (b)\n",
        "\n",
        "**PctSomeCol18_24:** Percent of county residents ages 18-24 highest education attained: some college (b)\n",
        "\n",
        "**PctBachDeg18_24:** Percent of county residents ages 18-24 highest education attained: bachelor's degree (b)\n",
        "\n",
        "**PctHS25_Over:** Percent of county residents ages 25 and over highest education attained: high school diploma (b)\n",
        "\n",
        "**PctBachDeg25_Over:** Percent of county residents ages 25 and over highest education attained: bachelor's degree (b)\n",
        "\n",
        "**PctEmployed16_Over:** Percent of county residents ages 16 and over employed (b)\n",
        "\n",
        "**PctUnemployed16_Over:** Percent of county residents ages 16 and over unemployed (b)\n",
        "\n",
        "**PctPrivateCoverage:** Percent of county residents with private health coverage (b)\n",
        "\n",
        "**PctPrivateCoverageAlone:** Percent of county residents with private health coverage alone (no public assistance) (b)\n",
        "\n",
        "**PctEmpPrivCoverage:** Percent of county residents with employee-provided private health coverage (b)\n",
        "\n",
        "**PctPublicCoverage:** Percent of county residents with government-provided health coverage (b)\n",
        "\n",
        "**PctPubliceCoverageAlone:** Percent of county residents with government-provided health coverage alone (b)\n",
        "\n",
        "**PctWhite:** Percent of county residents who identify as White (b)\n",
        "\n",
        "**PctBlack:** Percent of county residents who identify as Black (b)\n",
        "\n",
        "**PctAsian:** Percent of county residents who identify as Asian (b)\n",
        "\n",
        "**PctOtherRace:** Percent of county residents who identify in a category which is not White, Black, or Asian (b)\n",
        "\n",
        "**PctMarriedHouseholds:** Percent of married households (b)\n",
        "\n",
        "**BirthRate:** Number of live births relative to number of women in county (b)\n",
        "\n",
        "(a): years 2010-2016\n",
        "\n",
        "(b): 2013 Census Estimates\n",
        "</details>"
      ],
      "metadata": {
        "id": "xShUSmBGD6Ur"
      }
    },
    {
      "cell_type": "markdown",
      "source": [
        "### Print number of NaN values by column\n",
        "`NaN` values are numeric values that are \"not a number\".  \n",
        "Usually refers to missing data.\n",
        "hint: Use `isna()` and `sum()`\n",
        "<details> \n",
        "  <summary>Click to reveal answer. </summary>\n",
        "\n",
        "```python\n",
        "print(cancer.isna().sum())\n",
        "```\n",
        "</details>"
      ],
      "metadata": {
        "id": "pO8S1efXD-uw"
      }
    },
    {
      "cell_type": "code",
      "source": [
        "print()"
      ],
      "metadata": {
        "colab": {
          "base_uri": "https://localhost:8080/"
        },
        "id": "bWFqM1r0D3T8",
        "outputId": "38f7c640-8813-405e-d2ab-2c091541e3a1"
      },
      "execution_count": 31,
      "outputs": [
        {
          "output_type": "stream",
          "name": "stdout",
          "text": [
            "\n"
          ]
        }
      ]
    },
    {
      "cell_type": "markdown",
      "source": [
        "### Remove columns with NaN values\n",
        "`NaN` values or missing data is not helpful for running models on.  \n",
        "In this case, since it's just a few columns that have a lot of `NaN`s, it's better to just remove those. \n",
        "hint: set `axis = 1` to refer to columns when using `dropna()`. \n",
        "<details> \n",
        "  <summary>Click to reveal answer. </summary>\n",
        "\n",
        "```python\n",
        "cancer.dropna(axis=1, inplace=True)\n",
        "```\n",
        "or\n",
        "```python\n",
        "cancer = cancer.dropna(axis=1)\n",
        "```\n",
        "</details>"
      ],
      "metadata": {
        "id": "tx0Oilo4FeO-"
      }
    },
    {
      "cell_type": "code",
      "source": [],
      "metadata": {
        "id": "h0sR7lA9EBJR"
      },
      "execution_count": null,
      "outputs": []
    },
    {
      "cell_type": "markdown",
      "source": [
        "#### Run code below to display all rows that still contain `NaN`s"
      ],
      "metadata": {
        "id": "Ejk0a1GSFhiK"
      }
    },
    {
      "cell_type": "code",
      "source": [
        "display(cancer[cancer.isna().any(axis=1)])"
      ],
      "metadata": {
        "id": "JZL1DFlMFjpP"
      },
      "execution_count": null,
      "outputs": []
    },
    {
      "cell_type": "markdown",
      "source": [
        "### Print the data types for all columns\n",
        "<details> \n",
        "  <summary>Click to reveal answer. </summary>\n",
        "\n",
        "```python\n",
        "cancer.dtypes\n",
        "```\n",
        "</details>"
      ],
      "metadata": {
        "id": "cXOpDt7FFpeR"
      }
    },
    {
      "cell_type": "code",
      "source": [],
      "metadata": {
        "id": "wgE7EqrEFlNj"
      },
      "execution_count": null,
      "outputs": []
    },
    {
      "cell_type": "markdown",
      "source": [
        "### Convert all data types to numeric data or remove them\n",
        "We can see that all columns other than `binnedInc` and `Geography` are numbers (floats or ints).  \n",
        "While `binnedInc` does contain numbers, it's very similar to `medIncome` (both have to do with median income) so it's probably easier to remove this column.  \n",
        "`Geography` is the name of the county the data refers to. The name itself isn't very important so drop this column too.\n",
        "<details> \n",
        "  <summary>Click to reveal answer. </summary>\n",
        "\n",
        "```python\n",
        "cancer.drop(columns = [\"binnedInc\", \"Geography\"], inplace = True)\n",
        "```\n",
        "or\n",
        "```python\n",
        "cancer = cancer.drop(columns = [\"binnedInc\", \"Geography\"])\n",
        "```\n",
        "</details>"
      ],
      "metadata": {
        "id": "-tkZFTHMFuJ9"
      }
    },
    {
      "cell_type": "code",
      "source": [],
      "metadata": {
        "id": "al9ISr5iFr16"
      },
      "execution_count": 33,
      "outputs": []
    },
    {
      "cell_type": "code",
      "source": [
        "display(cancer)"
      ],
      "metadata": {
        "colab": {
          "base_uri": "https://localhost:8080/",
          "height": 661
        },
        "id": "IAvkvQDfFy9R",
        "outputId": "def385d3-8719-4cf8-a596-7f519d763f54"
      },
      "execution_count": 34,
      "outputs": [
        {
          "output_type": "display_data",
          "data": {
            "text/plain": [
              "      avgAnnCount  avgDeathsPerYear  TARGET_deathRate  incidenceRate  \\\n",
              "0     1397.000000               469             164.9     489.800000   \n",
              "1      173.000000                70             161.3     411.600000   \n",
              "2      102.000000                50             174.7     349.700000   \n",
              "3      427.000000               202             194.8     430.400000   \n",
              "4       57.000000                26             144.4     350.100000   \n",
              "...           ...               ...               ...            ...   \n",
              "3042  1962.667684                15             149.6     453.549422   \n",
              "3043  1962.667684                43             150.1     453.549422   \n",
              "3044  1962.667684                46             153.9     453.549422   \n",
              "3045  1962.667684                52             175.0     453.549422   \n",
              "3046  1962.667684                48             213.6     453.549422   \n",
              "\n",
              "      medIncome  popEst2015  povertyPercent  studyPerCap           binnedInc  \\\n",
              "0         61898      260131            11.2   499.748204   (61494.5, 125635]   \n",
              "1         48127       43269            18.6    23.111234  (48021.6, 51046.4]   \n",
              "2         49348       21026            14.6    47.560164  (48021.6, 51046.4]   \n",
              "3         44243       75882            17.1   342.637253    (42724.4, 45201]   \n",
              "4         49955       10321            12.5     0.000000  (48021.6, 51046.4]   \n",
              "...         ...         ...             ...          ...                 ...   \n",
              "3042      46961        6343            12.4     0.000000    (45201, 48021.6]   \n",
              "3043      48609       37118            18.8   377.175494  (48021.6, 51046.4]   \n",
              "3044      51144       34536            15.0  1968.959926  (51046.4, 54545.6]   \n",
              "3045      50745       25609            13.3     0.000000  (48021.6, 51046.4]   \n",
              "3046      41193       37030            13.9     0.000000  (40362.7, 42724.4]   \n",
              "\n",
              "      MedianAge  ...  PctPrivateCoverageAlone  PctEmpPrivCoverage  \\\n",
              "0          39.3  ...                      NaN                41.6   \n",
              "1          33.0  ...                     53.8                43.6   \n",
              "2          45.0  ...                     43.5                34.9   \n",
              "3          42.8  ...                     40.3                35.0   \n",
              "4          48.3  ...                     43.9                35.1   \n",
              "...         ...  ...                      ...                 ...   \n",
              "3042       44.2  ...                     54.9                44.6   \n",
              "3043       30.4  ...                     53.3                48.6   \n",
              "3044       30.9  ...                     52.6                47.8   \n",
              "3045       39.0  ...                     56.3                49.6   \n",
              "3046       26.2  ...                     60.3                22.9   \n",
              "\n",
              "     PctPublicCoverage  PctPublicCoverageAlone   PctWhite   PctBlack  \\\n",
              "0                 32.9                    14.0  81.780529   2.594728   \n",
              "1                 31.1                    15.3  89.228509   0.969102   \n",
              "2                 42.1                    21.1  90.922190   0.739673   \n",
              "3                 45.3                    25.0  91.744686   0.782626   \n",
              "4                 44.0                    22.7  94.104024   0.270192   \n",
              "...                ...                     ...        ...        ...   \n",
              "3042              31.7                    13.2  90.280811   3.837754   \n",
              "3043              28.8                    17.7  75.706245   2.326771   \n",
              "3044              26.6                    16.8  87.961629   2.313188   \n",
              "3045              29.5                    14.0  92.905681   1.176562   \n",
              "3046              25.1                    12.6  70.098132  16.590100   \n",
              "\n",
              "      PctAsian  PctOtherRace  PctMarriedHouseholds  BirthRate  \n",
              "0     4.821857      1.843479             52.856076   6.118831  \n",
              "1     2.246233      3.741352             45.372500   4.333096  \n",
              "2     0.465898      2.747358             54.444868   3.729488  \n",
              "3     1.161359      1.362643             51.021514   4.603841  \n",
              "4     0.665830      0.492135             54.027460   6.796657  \n",
              "...        ...           ...                   ...        ...  \n",
              "3042  0.327613      1.700468             51.063830   7.773512  \n",
              "3043  4.044920     14.130288             52.007937   8.186470  \n",
              "3044  1.316472      5.680705             55.153949   7.809192  \n",
              "3045  0.244632      2.131790             58.484232   7.582938  \n",
              "3046  3.177753      1.356457             56.040242   8.981723  \n",
              "\n",
              "[3047 rows x 34 columns]"
            ],
            "text/html": [
              "\n",
              "  <div id=\"df-2ad07b40-018f-4244-89a6-a5f720f54225\">\n",
              "    <div class=\"colab-df-container\">\n",
              "      <div>\n",
              "<style scoped>\n",
              "    .dataframe tbody tr th:only-of-type {\n",
              "        vertical-align: middle;\n",
              "    }\n",
              "\n",
              "    .dataframe tbody tr th {\n",
              "        vertical-align: top;\n",
              "    }\n",
              "\n",
              "    .dataframe thead th {\n",
              "        text-align: right;\n",
              "    }\n",
              "</style>\n",
              "<table border=\"1\" class=\"dataframe\">\n",
              "  <thead>\n",
              "    <tr style=\"text-align: right;\">\n",
              "      <th></th>\n",
              "      <th>avgAnnCount</th>\n",
              "      <th>avgDeathsPerYear</th>\n",
              "      <th>TARGET_deathRate</th>\n",
              "      <th>incidenceRate</th>\n",
              "      <th>medIncome</th>\n",
              "      <th>popEst2015</th>\n",
              "      <th>povertyPercent</th>\n",
              "      <th>studyPerCap</th>\n",
              "      <th>binnedInc</th>\n",
              "      <th>MedianAge</th>\n",
              "      <th>...</th>\n",
              "      <th>PctPrivateCoverageAlone</th>\n",
              "      <th>PctEmpPrivCoverage</th>\n",
              "      <th>PctPublicCoverage</th>\n",
              "      <th>PctPublicCoverageAlone</th>\n",
              "      <th>PctWhite</th>\n",
              "      <th>PctBlack</th>\n",
              "      <th>PctAsian</th>\n",
              "      <th>PctOtherRace</th>\n",
              "      <th>PctMarriedHouseholds</th>\n",
              "      <th>BirthRate</th>\n",
              "    </tr>\n",
              "  </thead>\n",
              "  <tbody>\n",
              "    <tr>\n",
              "      <th>0</th>\n",
              "      <td>1397.000000</td>\n",
              "      <td>469</td>\n",
              "      <td>164.9</td>\n",
              "      <td>489.800000</td>\n",
              "      <td>61898</td>\n",
              "      <td>260131</td>\n",
              "      <td>11.2</td>\n",
              "      <td>499.748204</td>\n",
              "      <td>(61494.5, 125635]</td>\n",
              "      <td>39.3</td>\n",
              "      <td>...</td>\n",
              "      <td>NaN</td>\n",
              "      <td>41.6</td>\n",
              "      <td>32.9</td>\n",
              "      <td>14.0</td>\n",
              "      <td>81.780529</td>\n",
              "      <td>2.594728</td>\n",
              "      <td>4.821857</td>\n",
              "      <td>1.843479</td>\n",
              "      <td>52.856076</td>\n",
              "      <td>6.118831</td>\n",
              "    </tr>\n",
              "    <tr>\n",
              "      <th>1</th>\n",
              "      <td>173.000000</td>\n",
              "      <td>70</td>\n",
              "      <td>161.3</td>\n",
              "      <td>411.600000</td>\n",
              "      <td>48127</td>\n",
              "      <td>43269</td>\n",
              "      <td>18.6</td>\n",
              "      <td>23.111234</td>\n",
              "      <td>(48021.6, 51046.4]</td>\n",
              "      <td>33.0</td>\n",
              "      <td>...</td>\n",
              "      <td>53.8</td>\n",
              "      <td>43.6</td>\n",
              "      <td>31.1</td>\n",
              "      <td>15.3</td>\n",
              "      <td>89.228509</td>\n",
              "      <td>0.969102</td>\n",
              "      <td>2.246233</td>\n",
              "      <td>3.741352</td>\n",
              "      <td>45.372500</td>\n",
              "      <td>4.333096</td>\n",
              "    </tr>\n",
              "    <tr>\n",
              "      <th>2</th>\n",
              "      <td>102.000000</td>\n",
              "      <td>50</td>\n",
              "      <td>174.7</td>\n",
              "      <td>349.700000</td>\n",
              "      <td>49348</td>\n",
              "      <td>21026</td>\n",
              "      <td>14.6</td>\n",
              "      <td>47.560164</td>\n",
              "      <td>(48021.6, 51046.4]</td>\n",
              "      <td>45.0</td>\n",
              "      <td>...</td>\n",
              "      <td>43.5</td>\n",
              "      <td>34.9</td>\n",
              "      <td>42.1</td>\n",
              "      <td>21.1</td>\n",
              "      <td>90.922190</td>\n",
              "      <td>0.739673</td>\n",
              "      <td>0.465898</td>\n",
              "      <td>2.747358</td>\n",
              "      <td>54.444868</td>\n",
              "      <td>3.729488</td>\n",
              "    </tr>\n",
              "    <tr>\n",
              "      <th>3</th>\n",
              "      <td>427.000000</td>\n",
              "      <td>202</td>\n",
              "      <td>194.8</td>\n",
              "      <td>430.400000</td>\n",
              "      <td>44243</td>\n",
              "      <td>75882</td>\n",
              "      <td>17.1</td>\n",
              "      <td>342.637253</td>\n",
              "      <td>(42724.4, 45201]</td>\n",
              "      <td>42.8</td>\n",
              "      <td>...</td>\n",
              "      <td>40.3</td>\n",
              "      <td>35.0</td>\n",
              "      <td>45.3</td>\n",
              "      <td>25.0</td>\n",
              "      <td>91.744686</td>\n",
              "      <td>0.782626</td>\n",
              "      <td>1.161359</td>\n",
              "      <td>1.362643</td>\n",
              "      <td>51.021514</td>\n",
              "      <td>4.603841</td>\n",
              "    </tr>\n",
              "    <tr>\n",
              "      <th>4</th>\n",
              "      <td>57.000000</td>\n",
              "      <td>26</td>\n",
              "      <td>144.4</td>\n",
              "      <td>350.100000</td>\n",
              "      <td>49955</td>\n",
              "      <td>10321</td>\n",
              "      <td>12.5</td>\n",
              "      <td>0.000000</td>\n",
              "      <td>(48021.6, 51046.4]</td>\n",
              "      <td>48.3</td>\n",
              "      <td>...</td>\n",
              "      <td>43.9</td>\n",
              "      <td>35.1</td>\n",
              "      <td>44.0</td>\n",
              "      <td>22.7</td>\n",
              "      <td>94.104024</td>\n",
              "      <td>0.270192</td>\n",
              "      <td>0.665830</td>\n",
              "      <td>0.492135</td>\n",
              "      <td>54.027460</td>\n",
              "      <td>6.796657</td>\n",
              "    </tr>\n",
              "    <tr>\n",
              "      <th>...</th>\n",
              "      <td>...</td>\n",
              "      <td>...</td>\n",
              "      <td>...</td>\n",
              "      <td>...</td>\n",
              "      <td>...</td>\n",
              "      <td>...</td>\n",
              "      <td>...</td>\n",
              "      <td>...</td>\n",
              "      <td>...</td>\n",
              "      <td>...</td>\n",
              "      <td>...</td>\n",
              "      <td>...</td>\n",
              "      <td>...</td>\n",
              "      <td>...</td>\n",
              "      <td>...</td>\n",
              "      <td>...</td>\n",
              "      <td>...</td>\n",
              "      <td>...</td>\n",
              "      <td>...</td>\n",
              "      <td>...</td>\n",
              "      <td>...</td>\n",
              "    </tr>\n",
              "    <tr>\n",
              "      <th>3042</th>\n",
              "      <td>1962.667684</td>\n",
              "      <td>15</td>\n",
              "      <td>149.6</td>\n",
              "      <td>453.549422</td>\n",
              "      <td>46961</td>\n",
              "      <td>6343</td>\n",
              "      <td>12.4</td>\n",
              "      <td>0.000000</td>\n",
              "      <td>(45201, 48021.6]</td>\n",
              "      <td>44.2</td>\n",
              "      <td>...</td>\n",
              "      <td>54.9</td>\n",
              "      <td>44.6</td>\n",
              "      <td>31.7</td>\n",
              "      <td>13.2</td>\n",
              "      <td>90.280811</td>\n",
              "      <td>3.837754</td>\n",
              "      <td>0.327613</td>\n",
              "      <td>1.700468</td>\n",
              "      <td>51.063830</td>\n",
              "      <td>7.773512</td>\n",
              "    </tr>\n",
              "    <tr>\n",
              "      <th>3043</th>\n",
              "      <td>1962.667684</td>\n",
              "      <td>43</td>\n",
              "      <td>150.1</td>\n",
              "      <td>453.549422</td>\n",
              "      <td>48609</td>\n",
              "      <td>37118</td>\n",
              "      <td>18.8</td>\n",
              "      <td>377.175494</td>\n",
              "      <td>(48021.6, 51046.4]</td>\n",
              "      <td>30.4</td>\n",
              "      <td>...</td>\n",
              "      <td>53.3</td>\n",
              "      <td>48.6</td>\n",
              "      <td>28.8</td>\n",
              "      <td>17.7</td>\n",
              "      <td>75.706245</td>\n",
              "      <td>2.326771</td>\n",
              "      <td>4.044920</td>\n",
              "      <td>14.130288</td>\n",
              "      <td>52.007937</td>\n",
              "      <td>8.186470</td>\n",
              "    </tr>\n",
              "    <tr>\n",
              "      <th>3044</th>\n",
              "      <td>1962.667684</td>\n",
              "      <td>46</td>\n",
              "      <td>153.9</td>\n",
              "      <td>453.549422</td>\n",
              "      <td>51144</td>\n",
              "      <td>34536</td>\n",
              "      <td>15.0</td>\n",
              "      <td>1968.959926</td>\n",
              "      <td>(51046.4, 54545.6]</td>\n",
              "      <td>30.9</td>\n",
              "      <td>...</td>\n",
              "      <td>52.6</td>\n",
              "      <td>47.8</td>\n",
              "      <td>26.6</td>\n",
              "      <td>16.8</td>\n",
              "      <td>87.961629</td>\n",
              "      <td>2.313188</td>\n",
              "      <td>1.316472</td>\n",
              "      <td>5.680705</td>\n",
              "      <td>55.153949</td>\n",
              "      <td>7.809192</td>\n",
              "    </tr>\n",
              "    <tr>\n",
              "      <th>3045</th>\n",
              "      <td>1962.667684</td>\n",
              "      <td>52</td>\n",
              "      <td>175.0</td>\n",
              "      <td>453.549422</td>\n",
              "      <td>50745</td>\n",
              "      <td>25609</td>\n",
              "      <td>13.3</td>\n",
              "      <td>0.000000</td>\n",
              "      <td>(48021.6, 51046.4]</td>\n",
              "      <td>39.0</td>\n",
              "      <td>...</td>\n",
              "      <td>56.3</td>\n",
              "      <td>49.6</td>\n",
              "      <td>29.5</td>\n",
              "      <td>14.0</td>\n",
              "      <td>92.905681</td>\n",
              "      <td>1.176562</td>\n",
              "      <td>0.244632</td>\n",
              "      <td>2.131790</td>\n",
              "      <td>58.484232</td>\n",
              "      <td>7.582938</td>\n",
              "    </tr>\n",
              "    <tr>\n",
              "      <th>3046</th>\n",
              "      <td>1962.667684</td>\n",
              "      <td>48</td>\n",
              "      <td>213.6</td>\n",
              "      <td>453.549422</td>\n",
              "      <td>41193</td>\n",
              "      <td>37030</td>\n",
              "      <td>13.9</td>\n",
              "      <td>0.000000</td>\n",
              "      <td>(40362.7, 42724.4]</td>\n",
              "      <td>26.2</td>\n",
              "      <td>...</td>\n",
              "      <td>60.3</td>\n",
              "      <td>22.9</td>\n",
              "      <td>25.1</td>\n",
              "      <td>12.6</td>\n",
              "      <td>70.098132</td>\n",
              "      <td>16.590100</td>\n",
              "      <td>3.177753</td>\n",
              "      <td>1.356457</td>\n",
              "      <td>56.040242</td>\n",
              "      <td>8.981723</td>\n",
              "    </tr>\n",
              "  </tbody>\n",
              "</table>\n",
              "<p>3047 rows × 34 columns</p>\n",
              "</div>\n",
              "      <button class=\"colab-df-convert\" onclick=\"convertToInteractive('df-2ad07b40-018f-4244-89a6-a5f720f54225')\"\n",
              "              title=\"Convert this dataframe to an interactive table.\"\n",
              "              style=\"display:none;\">\n",
              "        \n",
              "  <svg xmlns=\"http://www.w3.org/2000/svg\" height=\"24px\"viewBox=\"0 0 24 24\"\n",
              "       width=\"24px\">\n",
              "    <path d=\"M0 0h24v24H0V0z\" fill=\"none\"/>\n",
              "    <path d=\"M18.56 5.44l.94 2.06.94-2.06 2.06-.94-2.06-.94-.94-2.06-.94 2.06-2.06.94zm-11 1L8.5 8.5l.94-2.06 2.06-.94-2.06-.94L8.5 2.5l-.94 2.06-2.06.94zm10 10l.94 2.06.94-2.06 2.06-.94-2.06-.94-.94-2.06-.94 2.06-2.06.94z\"/><path d=\"M17.41 7.96l-1.37-1.37c-.4-.4-.92-.59-1.43-.59-.52 0-1.04.2-1.43.59L10.3 9.45l-7.72 7.72c-.78.78-.78 2.05 0 2.83L4 21.41c.39.39.9.59 1.41.59.51 0 1.02-.2 1.41-.59l7.78-7.78 2.81-2.81c.8-.78.8-2.07 0-2.86zM5.41 20L4 18.59l7.72-7.72 1.47 1.35L5.41 20z\"/>\n",
              "  </svg>\n",
              "      </button>\n",
              "      \n",
              "  <style>\n",
              "    .colab-df-container {\n",
              "      display:flex;\n",
              "      flex-wrap:wrap;\n",
              "      gap: 12px;\n",
              "    }\n",
              "\n",
              "    .colab-df-convert {\n",
              "      background-color: #E8F0FE;\n",
              "      border: none;\n",
              "      border-radius: 50%;\n",
              "      cursor: pointer;\n",
              "      display: none;\n",
              "      fill: #1967D2;\n",
              "      height: 32px;\n",
              "      padding: 0 0 0 0;\n",
              "      width: 32px;\n",
              "    }\n",
              "\n",
              "    .colab-df-convert:hover {\n",
              "      background-color: #E2EBFA;\n",
              "      box-shadow: 0px 1px 2px rgba(60, 64, 67, 0.3), 0px 1px 3px 1px rgba(60, 64, 67, 0.15);\n",
              "      fill: #174EA6;\n",
              "    }\n",
              "\n",
              "    [theme=dark] .colab-df-convert {\n",
              "      background-color: #3B4455;\n",
              "      fill: #D2E3FC;\n",
              "    }\n",
              "\n",
              "    [theme=dark] .colab-df-convert:hover {\n",
              "      background-color: #434B5C;\n",
              "      box-shadow: 0px 1px 3px 1px rgba(0, 0, 0, 0.15);\n",
              "      filter: drop-shadow(0px 1px 2px rgba(0, 0, 0, 0.3));\n",
              "      fill: #FFFFFF;\n",
              "    }\n",
              "  </style>\n",
              "\n",
              "      <script>\n",
              "        const buttonEl =\n",
              "          document.querySelector('#df-2ad07b40-018f-4244-89a6-a5f720f54225 button.colab-df-convert');\n",
              "        buttonEl.style.display =\n",
              "          google.colab.kernel.accessAllowed ? 'block' : 'none';\n",
              "\n",
              "        async function convertToInteractive(key) {\n",
              "          const element = document.querySelector('#df-2ad07b40-018f-4244-89a6-a5f720f54225');\n",
              "          const dataTable =\n",
              "            await google.colab.kernel.invokeFunction('convertToInteractive',\n",
              "                                                     [key], {});\n",
              "          if (!dataTable) return;\n",
              "\n",
              "          const docLinkHtml = 'Like what you see? Visit the ' +\n",
              "            '<a target=\"_blank\" href=https://colab.research.google.com/notebooks/data_table.ipynb>data table notebook</a>'\n",
              "            + ' to learn more about interactive tables.';\n",
              "          element.innerHTML = '';\n",
              "          dataTable['output_type'] = 'display_data';\n",
              "          await google.colab.output.renderOutput(dataTable, element);\n",
              "          const docLink = document.createElement('div');\n",
              "          docLink.innerHTML = docLinkHtml;\n",
              "          element.appendChild(docLink);\n",
              "        }\n",
              "      </script>\n",
              "    </div>\n",
              "  </div>\n",
              "  "
            ]
          },
          "metadata": {}
        }
      ]
    },
    {
      "cell_type": "markdown",
      "source": [
        "### Split the dataframe into X and y variables\n",
        "We're trying to predict `TARGET_deathRate` so that should go into y.  \n",
        "The rest of the data should go to X.  \n",
        "However, don't include `avgAnnCount` or `avgDeathsPerYear` as that could \"leak\" answers to the regression model.  \n",
        "Make sure they are a deepcopy of the initial dataframe. (A shallow copy would result in any changes to `X` and `y`, changing the original `cancer` dataframe.)\n",
        "<details> \n",
        "  <summary>Click to reveal answer. </summary>\n",
        "\n",
        "```python\n",
        "y = cancer[\"TARGET_deathRate\"].copy()\n",
        "X = cancer[cancer.columns[3:]].copy()\n",
        "```\n",
        "</details>"
      ],
      "metadata": {
        "id": "LHCtgi3IF0eJ"
      }
    },
    {
      "cell_type": "code",
      "source": [
        "y = \n",
        "X = "
      ],
      "metadata": {
        "id": "k6AmVpG9FzO3"
      },
      "execution_count": null,
      "outputs": []
    },
    {
      "cell_type": "code",
      "source": [
        "display(y)\n",
        "display(X)"
      ],
      "metadata": {
        "id": "Qj3O4hxLF7if"
      },
      "execution_count": null,
      "outputs": []
    },
    {
      "cell_type": "markdown",
      "source": [
        "### Now it's your turn: Remove any covariates (columns) from X that may be redundant or \"leak\" answers.\n",
        "Make sure you make your changes with ```inplace = True``` or assign it to some new variable so the change is \"saved\".\n",
        "<details> \n",
        "  <summary>List of covariates. Click to expand. </summary>\n",
        "\n",
        "**TARGET_deathRate:** Dependent variable. Mean per capita (100,000) cancer mortalities(a)\n",
        "\n",
        "**avgAnnCount:** Mean number of reported cases of cancer diagnosed annually(a)\n",
        "\n",
        "**avgDeathsPerYear:** Mean number of reported mortalities due to cancer(a)\n",
        "\n",
        "**incidenceRate:** Mean per capita (100,000) cancer diagoses(a)\n",
        "\n",
        "**medianIncome:** Median income per county (b)\n",
        "\n",
        "**popEst2015:** Population of county (b)\n",
        "\n",
        "**povertyPercent:** Percent of populace in poverty (b)\n",
        "\n",
        "**studyPerCap:** Per capita number of cancer-related clinical trials per county (a)\n",
        "\n",
        "**binnedInc:** Median income per capita binned by decile (b)\n",
        "\n",
        "**MedianAge:** Median age of county residents (b)\n",
        "\n",
        "**MedianAgeMale:** Median age of male county residents (b)\n",
        "\n",
        "**MedianAgeFemale:** Median age of female county residents (b)\n",
        "\n",
        "**Geography:** County name (b)\n",
        "\n",
        "**AvgHouseholdSize:** Mean household size of county (b)\n",
        "\n",
        "**PercentMarried:** Percent of county residents who are married (b)\n",
        "\n",
        "**PctNoHS18_24:** Percent of county residents ages 18-24 highest education attained: less than high school (b)\n",
        "\n",
        "**PctHS18_24:** Percent of county residents ages 18-24 highest education attained: high school diploma (b)\n",
        "\n",
        "**PctSomeCol18_24:** Percent of county residents ages 18-24 highest education attained: some college (b)\n",
        "\n",
        "**PctBachDeg18_24:** Percent of county residents ages 18-24 highest education attained: bachelor's degree (b)\n",
        "\n",
        "**PctHS25_Over:** Percent of county residents ages 25 and over highest education attained: high school diploma (b)\n",
        "\n",
        "**PctBachDeg25_Over:** Percent of county residents ages 25 and over highest education attained: bachelor's degree (b)\n",
        "\n",
        "**PctEmployed16_Over:** Percent of county residents ages 16 and over employed (b)\n",
        "\n",
        "**PctUnemployed16_Over:** Percent of county residents ages 16 and over unemployed (b)\n",
        "\n",
        "**PctPrivateCoverage:** Percent of county residents with private health coverage (b)\n",
        "\n",
        "**PctPrivateCoverageAlone:** Percent of county residents with private health coverage alone (no public assistance) (b)\n",
        "\n",
        "**PctEmpPrivCoverage:** Percent of county residents with employee-provided private health coverage (b)\n",
        "\n",
        "**PctPublicCoverage:** Percent of county residents with government-provided health coverage (b)\n",
        "\n",
        "**PctPubliceCoverageAlone:** Percent of county residents with government-provided health coverage alone (b)\n",
        "\n",
        "**PctWhite:** Percent of county residents who identify as White (b)\n",
        "\n",
        "**PctBlack:** Percent of county residents who identify as Black (b)\n",
        "\n",
        "**PctAsian:** Percent of county residents who identify as Asian (b)\n",
        "\n",
        "**PctOtherRace:** Percent of county residents who identify in a category which is not White, Black, or Asian (b)\n",
        "\n",
        "**PctMarriedHouseholds:** Percent of married households (b)\n",
        "\n",
        "**BirthRate:** Number of live births relative to number of women in county (b)\n",
        "\n",
        "(a): years 2010-2016\n",
        "\n",
        "(b): 2013 Census Estimates\n",
        "</details>"
      ],
      "metadata": {
        "id": "gLsF4_QEF9Kq"
      }
    },
    {
      "cell_type": "code",
      "source": [],
      "metadata": {
        "id": "KKe4gj27F_u6"
      },
      "execution_count": null,
      "outputs": []
    },
    {
      "cell_type": "markdown",
      "source": [
        "### Splitting data into test and train dataset.\n",
        "Split data into training set (75% of data) and test set (25% of data) to test for model performance.  \n",
        "hint: use `train_test_split()`\n",
        "<details> \n",
        "  <summary>Click to reveal answer. </summary>\n",
        "\n",
        "```python\n",
        "X_train, X_test, y_train, y_test = train_test_split(X,y)\n",
        "print(\"X_train:\",X_train.shape)\n",
        "print(\"X_test:\",X_test.shape)\n",
        "print(\"y_train:\",y_train.shape)\n",
        "print(\"y_test:\",y_test.shape)\n",
        "```\n",
        "</details>"
      ],
      "metadata": {
        "id": "6uE-9LjiGDts"
      }
    },
    {
      "cell_type": "code",
      "source": [
        "from sklearn.model_selection import train_test_split"
      ],
      "metadata": {
        "id": "-EzxvKYYGEBQ"
      },
      "execution_count": 35,
      "outputs": []
    },
    {
      "cell_type": "code",
      "source": [
        "X_train, X_test, y_train, y_test = \n",
        "print(\"X_train:\",X_train.shape)\n",
        "print(\"X_test:\",X_test.shape)\n",
        "print(\"y_train:\",y_train.shape)\n",
        "print(\"y_test:\",y_test.shape)"
      ],
      "metadata": {
        "id": "X2GFmZoxGFxJ"
      },
      "execution_count": null,
      "outputs": []
    },
    {
      "cell_type": "markdown",
      "source": [
        "### Fit Linear Regression model to training data\n",
        "<details> \n",
        "  <summary>Click to reveal answer. </summary>\n",
        "\n",
        "```python\n",
        "regModel = LinearRegression()\n",
        "regModel.fit(X_train,y_train)\n",
        "```\n",
        "</details>"
      ],
      "metadata": {
        "id": "nQAxxNFTGIQz"
      }
    },
    {
      "cell_type": "code",
      "source": [
        "regModel = LinearRegression()\n",
        "# add code"
      ],
      "metadata": {
        "id": "U22oS3ZJGJ4C"
      },
      "execution_count": null,
      "outputs": []
    },
    {
      "cell_type": "markdown",
      "source": [
        "### Predict cancer rates using X test data set.\n",
        "<details> \n",
        "  <summary>Click to reveal answer. </summary>\n",
        "\n",
        "```python\n",
        "regPred = regModel.predict(X_test)\n",
        "```\n",
        "</details>"
      ],
      "metadata": {
        "id": "IaWuE4zEGQpA"
      }
    },
    {
      "cell_type": "code",
      "source": [
        "regPred = "
      ],
      "metadata": {
        "id": "Q0UjZnMoGSyR"
      },
      "execution_count": null,
      "outputs": []
    },
    {
      "cell_type": "markdown",
      "source": [
        "### Evaluate the accuracy of the model. \n",
        "<details> \n",
        "  <summary>Click to reveal answer. </summary>\n",
        "\n",
        "```python\n",
        "regMSE = mean_squared_error(y_test, regPred)\n",
        "r2 = r2_score(y_test, regPred)\n",
        "print(\"Linear Regression:\")\n",
        "print(\"Mean Squared Error:\",regMSE)\n",
        "print(\"R^2:\", r2)\n",
        "```\n",
        "</details>"
      ],
      "metadata": {
        "id": "Kug37-avGW3M"
      }
    },
    {
      "cell_type": "code",
      "source": [
        "from sklearn.metrics import mean_squared_error, r2_score"
      ],
      "metadata": {
        "id": "L7_Nt2lqGYld"
      },
      "execution_count": 36,
      "outputs": []
    },
    {
      "cell_type": "code",
      "source": [
        "regMSE = \n",
        "r2 = \n",
        "print(\"Linear Regression:\")\n",
        "print(\"Mean Squared Error:\",regMSE)\n",
        "print(\"R^2:\", r2)"
      ],
      "metadata": {
        "id": "ro5owSMCGamr"
      },
      "execution_count": null,
      "outputs": []
    },
    {
      "cell_type": "markdown",
      "source": [
        "### Alternate library"
      ],
      "metadata": {
        "id": "Lqzt_yG0GeGL"
      }
    },
    {
      "cell_type": "code",
      "source": [
        "import statsmodels.api as sm"
      ],
      "metadata": {
        "id": "gPcau8-qGhcO"
      },
      "execution_count": 37,
      "outputs": []
    },
    {
      "cell_type": "code",
      "source": [
        "# Adds bias b\n",
        "X = sm.add_constant(X)\n",
        "\n",
        "# Fit linear regression model\n",
        "model = sm.OLS(y, X).fit()\n",
        "\n",
        "# view model summary\n",
        "print(model.summary())"
      ],
      "metadata": {
        "id": "0uwhqeEmGh6U"
      },
      "execution_count": null,
      "outputs": []
    }
  ]
}